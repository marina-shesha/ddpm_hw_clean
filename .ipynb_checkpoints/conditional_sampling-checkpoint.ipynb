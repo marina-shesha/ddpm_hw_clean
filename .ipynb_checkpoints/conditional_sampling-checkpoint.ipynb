{
 "cells": [
  {
   "cell_type": "code",
   "execution_count": 1,
   "id": "7ecf2c13",
   "metadata": {},
   "outputs": [],
   "source": [
    "import torch\n",
    "import wandb\n",
    "import torchvision\n",
    "\n",
    "import numpy as np\n",
    "\n",
    "from data_generator import DataGenerator\n",
    "from default_mnist_config import create_default_mnist_config\n",
    "from diffusion import DiffusionRunner\n",
    "from models.classifier import ResNet, ResidualBlock, ConditionalResNet\n",
    "\n",
    "from matplotlib import pyplot as plt\n",
    "\n",
    "import os\n",
    "os.environ['CUDA_VISIBLE_DEVICES'] = '3'"
   ]
  },
  {
   "cell_type": "code",
   "execution_count": 2,
   "id": "d689c2b9",
   "metadata": {},
   "outputs": [
    {
     "data": {
      "text/plain": [
       "<All keys matched successfully>"
      ]
     },
     "execution_count": 2,
     "metadata": {},
     "output_type": "execute_result"
    }
   ],
   "source": [
    "device = torch.device('cuda')\n",
    "classifier_args = {\n",
    "    \"block\": ResidualBlock,\n",
    "    \"layers\": [2, 2, 2, 2]\n",
    "}\n",
    "noisy_classifier = ConditionalResNet(**classifier_args)\n",
    "noisy_classifier.to(device)\n",
    "\n",
    "noisy_classifier.load_state_dict(torch.load('./ddpm_checkpoints/classifier.pth'))\n",
    "\n",
    "clean_classifier = ResNet(**classifier_args)\n",
    "clean_classifier.to(device)\n",
    "\n",
    "clean_classifier.load_state_dict(torch.load('./ddpm_checkpoints/clean_classifier.pth'))"
   ]
  },
  {
   "cell_type": "markdown",
   "id": "4d9ff044",
   "metadata": {},
   "source": [
    "#### Создайте два семплемера картинок, безусловный и условный с методом .set_classifier"
   ]
  },
  {
   "cell_type": "code",
   "execution_count": 3,
   "id": "15197a37",
   "metadata": {
    "scrolled": true
   },
   "outputs": [],
   "source": [
    "conditional_diffusion = DiffusionRunner(create_default_mnist_config(), eval=True)\n",
    "conditional_diffusion.set_classifier(noisy_classifier, T=1.)\n",
    "\n",
    "unconditional_diffusion = DiffusionRunner(create_default_mnist_config(), eval=True)"
   ]
  },
  {
   "cell_type": "code",
   "execution_count": 4,
   "id": "0161c142",
   "metadata": {},
   "outputs": [],
   "source": [
    "def get_pred_labels(images_normed: torch.Tensor):\n",
    "    \"\"\"\n",
    "    predict labels for normed images \n",
    "    [-1, 1]\n",
    "    \"\"\"\n",
    "\n",
    "\n",
    "def calc_acc_clean_classifier(images_normed: torch.Tensor, labels: torch.Tensor):\n",
    "    \"\"\"\n",
    "    calculate accuracy using clean classifier\n",
    "    \"\"\"\n",
    "\n",
    "\n",
    "def sample_images(diff_process, labels=None):\n",
    "    images_tensor = diff_process.sample_images(batch_size=100, labels=labels)\n",
    "    images_cpu = images_tensor.cpu()\n",
    "    grid = torchvision.utils.make_grid(images_cpu, nrow=10).permute(1, 2, 0)\n",
    "    grid = grid.data.numpy().astype(np.uint8)\n",
    "\n",
    "    plt.imshow(grid)\n",
    "    plt.show()\n",
    "    return images_tensor\n",
    "\n",
    "\n",
    "def cond_print_and_calc_acc(class_num: int):\n",
    "    labels = class_num*torch.ones(100).long().to(device)\n",
    "    images_tensor = sample_images(conditional_diffusion, labels)\n",
    "    acc = calc_acc_clean_classifier((images_tensor - 127.5)/ 127.5, labels=labels)\n",
    "    print('Accuracy: ', acc.item())\n",
    "    return images_tensor"
   ]
  },
  {
   "cell_type": "markdown",
   "id": "e3698a95",
   "metadata": {},
   "source": [
    "#### Посемплируйте наборы картинок всех классов обоими способами, изменить температуру можно с помощью повторного .set_classifier"
   ]
  },
  {
   "cell_type": "markdown",
   "id": "e999d5a8",
   "metadata": {},
   "source": [
    "> Как сильно влияет температура на отличимость семплов при условной генерации? Продеменстрируйте для разных T свои выводы.\n",
    "\n"
   ]
  },
  {
   "cell_type": "markdown",
   "id": "62ce953c",
   "metadata": {},
   "source": [
    "> Какое качество получается у чистого классификатора при условной генерации? Попробуйте оценить на глаз качество чистого классификатора для безусловной генерации, объясните свои выводы.\n"
   ]
  }
 ],
 "metadata": {
  "kernelspec": {
   "display_name": "Python 3 (ipykernel)",
   "language": "python",
   "name": "python3"
  },
  "language_info": {
   "codemirror_mode": {
    "name": "ipython",
    "version": 3
   },
   "file_extension": ".py",
   "mimetype": "text/x-python",
   "name": "python",
   "nbconvert_exporter": "python",
   "pygments_lexer": "ipython3",
   "version": "3.9.7"
  }
 },
 "nbformat": 4,
 "nbformat_minor": 5
}
