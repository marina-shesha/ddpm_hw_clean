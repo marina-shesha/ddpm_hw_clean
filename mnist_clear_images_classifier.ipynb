{
 "cells": [
  {
   "cell_type": "code",
   "execution_count": 1,
   "id": "7e74ec28",
   "metadata": {},
   "outputs": [],
   "source": [
    "import torch\n",
    "import wandb\n",
    "\n",
    "from default_mnist_config import create_default_mnist_config\n",
    "from diffusion import DiffusionRunner\n",
    "from models.classifier import ResNet, ResidualBlock, ConditionalResNet\n",
    "from data_generator import DataGenerator\n",
    "\n",
    "from tqdm.auto import trange\n",
    "\n",
    "import os\n",
    "os.environ['CUDA_VISIBLE_DEVICES'] = '3'"
   ]
  },
  {
   "cell_type": "code",
   "execution_count": 2,
   "id": "c313d691",
   "metadata": {},
   "outputs": [],
   "source": [
    "device = torch.device('cuda')\n",
    "classifier_args = {\n",
    "    \"block\": ResidualBlock,\n",
    "    \"layers\": [2, 2, 2, 2]\n",
    "}\n",
    "model = ResNet(**classifier_args)\n",
    "model.to(device)\n",
    "\n",
    "optim = torch.optim.AdamW(model.parameters(), lr=1e-3)\n",
    "loss_func = torch.nn.CrossEntropyLoss()"
   ]
  },
  {
   "cell_type": "code",
   "execution_count": 3,
   "id": "a513f7ed",
   "metadata": {},
   "outputs": [],
   "source": [
    "datagen = DataGenerator(create_default_mnist_config())\n",
    "train_generator = datagen.sample_train()"
   ]
  },
  {
   "cell_type": "code",
   "execution_count": 4,
   "id": "9716038d",
   "metadata": {},
   "outputs": [],
   "source": [
    "TOTAL_ITERS = 2_000\n",
    "EVAL_FREQ = 500"
   ]
  },
  {
   "cell_type": "markdown",
   "id": "809c065e",
   "metadata": {},
   "source": [
    "### Обучите классификатор только на чистых картинках. Он понадобится нам для классификации условно сгенерированных картинок"
   ]
  },
  {
   "cell_type": "code",
   "execution_count": 5,
   "id": "95d76a79",
   "metadata": {},
   "outputs": [
    {
     "data": {
      "application/vnd.jupyter.widget-view+json": {
       "model_id": "0f041b67ea5948f283a51f43abc236a3",
       "version_major": 2,
       "version_minor": 0
      },
      "text/plain": [
       "  0%|          | 0/2000 [00:00<?, ?it/s]"
      ]
     },
     "metadata": {},
     "output_type": "display_data"
    },
    {
     "name": "stdout",
     "output_type": "stream",
     "text": [
      "Clean MNIST classifier's accuracy: 0.101\n",
      "Clean MNIST classifier's accuracy: 0.9741\n",
      "Clean MNIST classifier's accuracy: 0.9939\n",
      "Clean MNIST classifier's accuracy: 0.9904\n"
     ]
    }
   ],
   "source": [
    "model.train()\n",
    "\n",
    "for iter_idx in trange(1, 1 + TOTAL_ITERS):\n",
    "    \n",
    "    \"\"\"\n",
    "    train\n",
    "    \"\"\"\n",
    "    \n",
    "    if iter_idx % EVAL_FREQ == 0:\n",
    "        valid_accuracy = 0\n",
    "        \"\"\"\n",
    "        validate\n",
    "        \"\"\"\n",
    "        print('Clean MNIST classifier\\'s accuracy:', valid_accuracy)\n",
    "model.eval()"
   ]
  },
  {
   "cell_type": "code",
   "execution_count": 7,
   "id": "66649ddd",
   "metadata": {},
   "outputs": [],
   "source": [
    "torch.save(model.state_dict(), './ddpm_checkpoints/clean_classifier.pth')"
   ]
  }
 ],
 "metadata": {
  "kernelspec": {
   "display_name": "Python 3 (ipykernel)",
   "language": "python",
   "name": "python3"
  },
  "language_info": {
   "codemirror_mode": {
    "name": "ipython",
    "version": 3
   },
   "file_extension": ".py",
   "mimetype": "text/x-python",
   "name": "python",
   "nbconvert_exporter": "python",
   "pygments_lexer": "ipython3",
   "version": "3.9.5"
  }
 },
 "nbformat": 4,
 "nbformat_minor": 5
}
